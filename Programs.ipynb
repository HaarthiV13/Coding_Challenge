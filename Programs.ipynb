{
  "nbformat": 4,
  "nbformat_minor": 0,
  "metadata": {
    "colab": {
      "provenance": [],
      "gpuType": "T4"
    },
    "kernelspec": {
      "name": "python3",
      "display_name": "Python 3"
    },
    "language_info": {
      "name": "python"
    },
    "accelerator": "GPU"
  },
  "cells": [
    {
      "cell_type": "code",
      "execution_count": 2,
      "metadata": {
        "colab": {
          "base_uri": "https://localhost:8080/"
        },
        "id": "RcGV-1U9PW9m",
        "outputId": "0ae45dd1-8194-4e95-a9b3-4beb025bf204"
      },
      "outputs": [
        {
          "output_type": "stream",
          "name": "stdout",
          "text": [
            "6\n",
            "1\n",
            "2\n",
            "3\n",
            "6\n"
          ]
        }
      ],
      "source": [
        "#factors\n",
        "n=int(input())\n",
        "for i in range(1,n+1):\n",
        "  if n%i==0:\n",
        "    print(i)"
      ]
    },
    {
      "cell_type": "code",
      "source": [
        "#no.of factors\n",
        "n=int(input())\n",
        "count=0\n",
        "for i in range(1,n+1):\n",
        "  if n%i==0:\n",
        "    count=count+1\n",
        "print(count)"
      ],
      "metadata": {
        "colab": {
          "base_uri": "https://localhost:8080/"
        },
        "id": "SvUKD11vPzFB",
        "outputId": "9c824ac6-ee76-49ef-e487-bca4b6ebdc4b"
      },
      "execution_count": 4,
      "outputs": [
        {
          "output_type": "stream",
          "name": "stdout",
          "text": [
            "6\n",
            "4\n"
          ]
        }
      ]
    },
    {
      "cell_type": "code",
      "source": [
        "#prime or not\n",
        "n=int(input())\n",
        "count=0\n",
        "for i in range(1,n+1):\n",
        "  if n%i==0:\n",
        "    count=count+1\n",
        "if count==2:\n",
        "  print(\"prime\")\n",
        "else:\n",
        "  print(\"not\")\n"
      ],
      "metadata": {
        "colab": {
          "base_uri": "https://localhost:8080/"
        },
        "id": "oKdK7FxJQDxD",
        "outputId": "d4cdb1fa-7b5f-4b94-e619-09c88a28f793"
      },
      "execution_count": 5,
      "outputs": [
        {
          "output_type": "stream",
          "name": "stdout",
          "text": [
            "2\n",
            "prime\n"
          ]
        }
      ]
    },
    {
      "cell_type": "code",
      "source": [
        "#count no.of primes\n",
        "n=int(input())\n",
        "count=0\n",
        "for i in range(1,n+1):\n",
        "  if n%i==0:\n",
        "    count=count+1\n",
        "print(count)\n",
        "if count==2:\n",
        "  print(\"prime\")\n",
        "else:\n",
        "  print(\"not\")\n"
      ],
      "metadata": {
        "colab": {
          "base_uri": "https://localhost:8080/"
        },
        "id": "_srMWUdLQVwo",
        "outputId": "24c8f6a4-4209-459c-ea15-37d71e06b146"
      },
      "execution_count": 6,
      "outputs": [
        {
          "output_type": "stream",
          "name": "stdout",
          "text": [
            "6\n",
            "4\n",
            "not\n"
          ]
        }
      ]
    },
    {
      "cell_type": "code",
      "source": [
        "# prime no.s between a range\n",
        "n=int(input())\n",
        "m=int(input())\n",
        "pcount=0\n",
        "for i in range(n,m+1):\n",
        "  count=0\n",
        "  for j in range(1,i+1):\n",
        "    if i%j==0:\n",
        "      count=count+1\n",
        "  if count==2:\n",
        "    print(i)\n",
        "    pcount=pcount+1\n",
        "print(pcount)"
      ],
      "metadata": {
        "colab": {
          "base_uri": "https://localhost:8080/"
        },
        "id": "Yls1SfOtQVzO",
        "outputId": "3074fd5b-041a-421b-c174-4e18c0ff051b"
      },
      "execution_count": 7,
      "outputs": [
        {
          "output_type": "stream",
          "name": "stdout",
          "text": [
            "6\n",
            "9\n",
            "7\n",
            "1\n"
          ]
        }
      ]
    },
    {
      "cell_type": "code",
      "source": [
        "#factorial of no.s upto given input\n",
        "n=int(input())\n",
        "f=1\n",
        "for i in range(1,n+1):\n",
        "  f=f*i\n",
        "  print(f)"
      ],
      "metadata": {
        "colab": {
          "base_uri": "https://localhost:8080/"
        },
        "id": "IMD9-dsxQV2G",
        "outputId": "aa6344d6-e0bd-40fc-d193-e1eab6001672"
      },
      "execution_count": 10,
      "outputs": [
        {
          "output_type": "stream",
          "name": "stdout",
          "text": [
            "5\n",
            "1\n",
            "2\n",
            "6\n",
            "24\n",
            "120\n"
          ]
        }
      ]
    },
    {
      "cell_type": "code",
      "source": [
        "#factorial\n",
        "n=int(input())\n",
        "f=1\n",
        "for i in range(1,n+1):\n",
        "  f=f*i\n",
        "print(f)"
      ],
      "metadata": {
        "colab": {
          "base_uri": "https://localhost:8080/"
        },
        "id": "dkXBe4JNQV49",
        "outputId": "511adf4d-839e-4582-a199-1802d7bbd809"
      },
      "execution_count": 11,
      "outputs": [
        {
          "output_type": "stream",
          "name": "stdout",
          "text": [
            "5\n",
            "120\n"
          ]
        }
      ]
    },
    {
      "cell_type": "code",
      "source": [
        "#reverse of a given no.\n",
        "n=int(input())\n",
        "rev=0\n",
        "while n!=0:\n",
        "  rev=rev*10+(n%10)\n",
        "  n=n//10\n",
        "print(rev)"
      ],
      "metadata": {
        "colab": {
          "base_uri": "https://localhost:8080/"
        },
        "id": "8dldTiEQQV7n",
        "outputId": "834a6889-ef72-48b9-d2c6-6cbfd184cbce"
      },
      "execution_count": 12,
      "outputs": [
        {
          "output_type": "stream",
          "name": "stdout",
          "text": [
            "123\n",
            "321\n"
          ]
        }
      ]
    },
    {
      "cell_type": "code",
      "source": [
        "#rev of string\n",
        "str=input(\"\")\n",
        "revstr=str[::-1]\n",
        "print(revstr)"
      ],
      "metadata": {
        "colab": {
          "base_uri": "https://localhost:8080/"
        },
        "id": "LnDtxFP-QV-3",
        "outputId": "1f3c032d-81e2-42cc-ab28-c275ebe1402c"
      },
      "execution_count": 13,
      "outputs": [
        {
          "output_type": "stream",
          "name": "stdout",
          "text": [
            "haa\n",
            "aah\n"
          ]
        }
      ]
    },
    {
      "cell_type": "code",
      "source": [
        "#rev of string using loop\n",
        "str=input(\"\")\n",
        "revstr=\"\"\n",
        "for i in str:\n",
        "  revstr=i+revstr\n",
        "print(revstr)"
      ],
      "metadata": {
        "colab": {
          "base_uri": "https://localhost:8080/"
        },
        "id": "jS0z9RqRSy1J",
        "outputId": "c57e696f-3049-4c88-aa1e-e62d83b8e040"
      },
      "execution_count": 15,
      "outputs": [
        {
          "output_type": "stream",
          "name": "stdout",
          "text": [
            "jhg\n",
            "ghj\n"
          ]
        }
      ]
    },
    {
      "cell_type": "code",
      "source": [
        "#rev of list\n",
        "#ls=list(map(int,input().split()))\n",
        "ls=input()\n",
        "revls=ls[::-1]\n",
        "print(revls)\n"
      ],
      "metadata": {
        "colab": {
          "base_uri": "https://localhost:8080/"
        },
        "id": "kMv5CvSjS_Fw",
        "outputId": "019e7c73-980e-4fec-c117-d75be2819eb7"
      },
      "execution_count": 20,
      "outputs": [
        {
          "output_type": "stream",
          "name": "stdout",
          "text": [
            "[]1 2 3\n",
            "3 2 1\n"
          ]
        }
      ]
    },
    {
      "cell_type": "code",
      "source": [
        "#rev of list using loop\n",
        "ls=list(map(int,input().split()))\n",
        "revls=[]\n",
        "for i in ls:\n",
        "  revls=[i]+revls\n",
        "print(revls)"
      ],
      "metadata": {
        "colab": {
          "base_uri": "https://localhost:8080/"
        },
        "id": "rXs8_l04S_Iw",
        "outputId": "6394f1c8-77c9-4310-aff3-842f9c6f53e8"
      },
      "execution_count": 23,
      "outputs": [
        {
          "output_type": "stream",
          "name": "stdout",
          "text": [
            "1 2 3\n",
            "[3, 2, 1]\n"
          ]
        }
      ]
    },
    {
      "cell_type": "code",
      "source": [
        "#palindrome\n",
        "a=int(input())\n",
        "n=a\n",
        "rev=0\n",
        "while n!=0:\n",
        "  rev=rev*10+(n%10)\n",
        "  n=n//10\n",
        "print(rev)\n",
        "if a==rev:\n",
        "  print(\"palindrome\")\n",
        "else:\n",
        "  print(\"not\")"
      ],
      "metadata": {
        "colab": {
          "base_uri": "https://localhost:8080/"
        },
        "id": "0sZY64BVS_LZ",
        "outputId": "83293570-1ec1-4e87-9d39-90b44b94846a"
      },
      "execution_count": 24,
      "outputs": [
        {
          "output_type": "stream",
          "name": "stdout",
          "text": [
            "1221\n",
            "1221\n",
            "palindrome\n"
          ]
        }
      ]
    },
    {
      "cell_type": "code",
      "source": [
        "#sum of digits\n",
        "n=int(input())\n",
        "sum=0\n",
        "while n!=0:\n",
        "  sum=sum+(n%10)\n",
        "  n=n//10\n",
        "print(sum)"
      ],
      "metadata": {
        "colab": {
          "base_uri": "https://localhost:8080/"
        },
        "id": "XZVDGRLMS_Nz",
        "outputId": "c2a025a2-d95e-4130-b156-65db2b81256e"
      },
      "execution_count": 26,
      "outputs": [
        {
          "output_type": "stream",
          "name": "stdout",
          "text": [
            "23\n",
            "5\n"
          ]
        }
      ]
    },
    {
      "cell_type": "code",
      "source": [
        "#sum of n natural no.s\n",
        "n=int(input())\n",
        "sum=n*(n+1)/2\n",
        "print(sum)"
      ],
      "metadata": {
        "colab": {
          "base_uri": "https://localhost:8080/"
        },
        "id": "Z4yy-OhQS_QD",
        "outputId": "de6aa7fc-27d6-4b6a-c5a9-a3bc24ac8fcc"
      },
      "execution_count": 27,
      "outputs": [
        {
          "output_type": "stream",
          "name": "stdout",
          "text": [
            "10\n",
            "55.0\n"
          ]
        }
      ]
    },
    {
      "cell_type": "code",
      "source": [
        "# Armstrong number check\n",
        "n = int(input())\n",
        "# Calculate the number of digits\n",
        "m = len(str(n))\n",
        "a = n\n",
        "sum_of_powers = 0\n",
        "count = 0\n",
        "while a > 0:\n",
        "    d = a % 10\n",
        "    sum_of_powers = sum_of_powers + (d ** m)\n",
        "    a = a // 10\n",
        "    count = count + 1\n",
        "print(count)\n",
        "if sum_of_powers == n:\n",
        "    print(\"Armstrong number\")\n",
        "else:\n",
        "    print(\"not an Armstrong number\")"
      ],
      "metadata": {
        "id": "FSNiNjnSS_TJ"
      },
      "execution_count": null,
      "outputs": []
    },
    {
      "cell_type": "code",
      "source": [],
      "metadata": {
        "id": "1bQNXHxYS_WR"
      },
      "execution_count": null,
      "outputs": []
    }
  ]
}